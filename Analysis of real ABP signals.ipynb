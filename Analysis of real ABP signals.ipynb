{
 "cells": [
  {
   "cell_type": "markdown",
   "source": [
    "<h1 align=\"center\">This is Analysis that my program is capable of</h1>"
   ],
   "metadata": {
    "collapsed": false
   },
   "id": "5e7f66235fe79325"
  },
  {
   "cell_type": "code",
   "execution_count": null,
   "outputs": [],
   "source": [
    "from path_handler import PathHandler\n",
    "from ABP.frequency_domain import FrequencyDomain\n",
    "from ABP.time_domain import TimeDomain"
   ],
   "metadata": {
    "collapsed": false,
    "is_executing": true
   },
   "id": "48db4bb7c5ec85f4"
  },
  {
   "cell_type": "code",
   "execution_count": null,
   "outputs": [],
   "source": [
    "PATH = r\"C:\\Users\\damia\\OneDrive\\Pulpit\\zdrowi\"\n",
    "name = [\"abp_finger_mm_hg_[abp_finger_mm_Hg_]\", \"abp_arm_mm_hg_[abp_arm_mm_Hg_]\", \"ekg__[ekg__]\"]"
   ],
   "metadata": {
    "collapsed": false
   },
   "id": "b3361831f26c0702"
  },
  {
   "cell_type": "code",
   "execution_count": null,
   "outputs": [],
   "source": [
    "signals = PathHandler(PATH, name).signals"
   ],
   "metadata": {
    "collapsed": false,
    "is_executing": true
   },
   "id": "de9c9e2aa62cb0b6"
  },
  {
   "cell_type": "code",
   "execution_count": null,
   "outputs": [],
   "source": [],
   "metadata": {
    "collapsed": false
   },
   "id": "f56aac38f5dd093"
  }
 ],
 "metadata": {
  "kernelspec": {
   "display_name": "Python 3",
   "language": "python",
   "name": "python3"
  },
  "language_info": {
   "codemirror_mode": {
    "name": "ipython",
    "version": 2
   },
   "file_extension": ".py",
   "mimetype": "text/x-python",
   "name": "python",
   "nbconvert_exporter": "python",
   "pygments_lexer": "ipython2",
   "version": "2.7.6"
  }
 },
 "nbformat": 4,
 "nbformat_minor": 5
}
